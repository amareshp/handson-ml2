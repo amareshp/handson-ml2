{
 "cells": [
  {
   "cell_type": "code",
   "execution_count": 1,
   "outputs": [
    {
     "data": {
      "text/plain": "city   austin  dallas  dublin  fremont  houston  newark\nstate                                                  \nca        NaN     NaN  2000.0   3000.0      NaN  2000.0\ntx     2000.0  4000.0     NaN      NaN   5000.0     NaN",
      "text/html": "<div>\n<style scoped>\n    .dataframe tbody tr th:only-of-type {\n        vertical-align: middle;\n    }\n\n    .dataframe tbody tr th {\n        vertical-align: top;\n    }\n\n    .dataframe thead th {\n        text-align: right;\n    }\n</style>\n<table border=\"1\" class=\"dataframe\">\n  <thead>\n    <tr style=\"text-align: right;\">\n      <th>city</th>\n      <th>austin</th>\n      <th>dallas</th>\n      <th>dublin</th>\n      <th>fremont</th>\n      <th>houston</th>\n      <th>newark</th>\n    </tr>\n    <tr>\n      <th>state</th>\n      <th></th>\n      <th></th>\n      <th></th>\n      <th></th>\n      <th></th>\n      <th></th>\n    </tr>\n  </thead>\n  <tbody>\n    <tr>\n      <th>ca</th>\n      <td>NaN</td>\n      <td>NaN</td>\n      <td>2000.0</td>\n      <td>3000.0</td>\n      <td>NaN</td>\n      <td>2000.0</td>\n    </tr>\n    <tr>\n      <th>tx</th>\n      <td>2000.0</td>\n      <td>4000.0</td>\n      <td>NaN</td>\n      <td>NaN</td>\n      <td>5000.0</td>\n      <td>NaN</td>\n    </tr>\n  </tbody>\n</table>\n</div>"
     },
     "metadata": {},
     "output_type": "execute_result",
     "execution_count": 1
    }
   ],
   "source": [
    "# Python ≥3.5 is required\n",
    "import pandas as pd\n",
    "\n",
    "data_1 = pd.read_csv(\"sample_1.csv\")\n",
    "data_1.head(20)\n",
    "\n",
    "data_2 = data_1.pivot(index='state', columns='city', values='population')\n",
    "data_2.head(20)\n"
   ],
   "metadata": {
    "collapsed": false,
    "pycharm": {
     "name": "#%%\n",
     "is_executing": false
    }
   }
  }
 ],
 "metadata": {
  "kernelspec": {
   "display_name": "Python 3",
   "language": "python",
   "name": "python3"
  },
  "language_info": {
   "codemirror_mode": {
    "name": "ipython",
    "version": 2
   },
   "file_extension": ".py",
   "mimetype": "text/x-python",
   "name": "python",
   "nbconvert_exporter": "python",
   "pygments_lexer": "ipython2",
   "version": "2.7.6"
  },
  "pycharm": {
   "stem_cell": {
    "cell_type": "raw",
    "source": [],
    "metadata": {
     "collapsed": false
    }
   }
  }
 },
 "nbformat": 4,
 "nbformat_minor": 0
}